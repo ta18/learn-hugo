{
 "cells": [
  {
   "cell_type": "markdown",
   "metadata": {},
   "source": [
    "# Entrainer un model SSD MobilNet detection d'objet avec TensorFlow1"
   ]
  },
  {
   "cell_type": "markdown",
   "metadata": {},
   "source": [
    "Ce notebook te permet d'entrainer un réseau de neurones pour la détection d'objet. \n",
    "Tu va utiliser Tensorflow 1 pour entrainer un model SSD MobilNet quantifié(V1 ou V2).\n",
    "L'intéret d'entrainer ton model sur Tensorflow 1 c'est que les models proposé sur *Tensorflow Model Zoo* sont deja quantifié et permette donc d'utiliser le réseau sur TPU. \n",
    "\n",
    "Pour utiliser ton réseau entrainé sur TPU tu peux regarder ce notebook : lien "
   ]
  },
  {
   "cell_type": "markdown",
   "metadata": {},
   "source": [
    "## 1. Installation "
   ]
  },
  {
   "cell_type": "markdown",
   "metadata": {},
   "source": [
    "#### Creer un environnement virtuel TF1 : "
   ]
  },
  {
   "cell_type": "code",
   "execution_count": null,
   "metadata": {},
   "outputs": [],
   "source": [
    "! conda create -n tf1 python=3.6\n",
    "! conda activate tf1 # pour se mettre dans l'environnement TF1\n",
    "! mkdir tod_tf1 #on créer un fichier tod_tf1\n",
    "! cd tod_tf1/\n",
    "#téléchargement du git "
   ]
  },
  {
   "cell_type": "code",
   "execution_count": null,
   "metadata": {},
   "outputs": [],
   "source": [
    "sudo apt-get install -y python python-tk\n",
    "pip install Cython contextlib2 pillow lxml jupyter matplotlib"
   ]
  },
  {
   "cell_type": "markdown",
   "metadata": {},
   "source": [
    "#### Installation de Tensorflow sur ton environnement "
   ]
  },
  {
   "cell_type": "code",
   "execution_count": null,
   "metadata": {},
   "outputs": [],
   "source": [
    "! pip uninstall tensorflow -y\n",
    "! pip install tensorflow-gpu==1.15"
   ]
  },
  {
   "cell_type": "code",
   "execution_count": null,
   "metadata": {},
   "outputs": [],
   "source": []
  },
  {
   "cell_type": "markdown",
   "metadata": {},
   "source": [
    "#### Installation des models Tensorflow et de l'API google coral : "
   ]
  },
  {
   "cell_type": "code",
   "execution_count": null,
   "metadata": {},
   "outputs": [],
   "source": [
    "! git clone https://github.com/tensorflow/models.git"
   ]
  },
  {
   "cell_type": "code",
   "execution_count": null,
   "metadata": {},
   "outputs": [],
   "source": [
    "! cd models && git checkout f788046ca876a8820e05b0b48c1fc2e16b0955bc"
   ]
  },
  {
   "cell_type": "code",
   "execution_count": null,
   "metadata": {},
   "outputs": [],
   "source": [
    "! cd ..\n",
    "! git clone https://github.com/google-coral/tutorials.git\n",
    "! cp -r tutorials/docker/object_detection/scripts/* models/research/"
   ]
  },
  {
   "cell_type": "markdown",
   "metadata": {},
   "source": [
    "#### Installation de protoc : "
   ]
  },
  {
   "cell_type": "code",
   "execution_count": null,
   "metadata": {},
   "outputs": [],
   "source": [
    "! wget https://www.github.com/google/protobuf/releases/download/v3.0.0/protoc-3.0.0-linux-x86_64.zip\n",
    "! unzip protoc-3.0.0-linux-x86_64.zip -d proto3\n",
    "! mkdir -p local/bin && mkdir -p local/include\n",
    "! mv proto3/bin/* local/bin\n",
    "! mv proto3/include/* local/include\n",
    "! rm -rf proto3 protoc-3.0.0-linux-x86_64.zip"
   ]
  },
  {
   "cell_type": "markdown",
   "metadata": {},
   "source": [
    "#### Installation de cocoapi : "
   ]
  },
  {
   "cell_type": "code",
   "execution_count": null,
   "metadata": {},
   "outputs": [],
   "source": [
    "! git clone --depth 1 https://github.com/cocodataset/cocoapi.git\n",
    "! (cd cocoapi/PythonAPI && make -j8)\n",
    "! cp -r cocoapi/PythonAPI/pycocotools/ models/research/\n",
    "! rm -rf cocoapi"
   ]
  },
  {
   "cell_type": "markdown",
   "metadata": {},
   "source": [
    "PYTHONPATH : "
   ]
  },
  {
   "cell_type": "markdown",
   "metadata": {},
   "source": [
    "## 2. Mise en forme des datas"
   ]
  },
  {
   "cell_type": "markdown",
   "metadata": {},
   "source": [
    "## 3. Entrainement "
   ]
  },
  {
   "cell_type": "markdown",
   "metadata": {},
   "source": [
    "## 4.  "
   ]
  },
  {
   "cell_type": "code",
   "execution_count": null,
   "metadata": {},
   "outputs": [],
   "source": []
  }
 ],
 "metadata": {
  "kernelspec": {
   "display_name": "Python 3",
   "language": "python",
   "name": "python3"
  },
  "language_info": {
   "codemirror_mode": {
    "name": "ipython",
    "version": 3
   },
   "file_extension": ".py",
   "mimetype": "text/x-python",
   "name": "python",
   "nbconvert_exporter": "python",
   "pygments_lexer": "ipython3",
   "version": "3.8.5"
  }
 },
 "nbformat": 4,
 "nbformat_minor": 4
}
