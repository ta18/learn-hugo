{
 "cells": [
  {
   "cell_type": "markdown",
   "metadata": {},
   "source": [
    "## Reachy expressif correction "
   ]
  },
  {
   "cell_type": "code",
   "execution_count": 1,
   "metadata": {},
   "outputs": [
    {
     "name": "stdout",
     "output_type": "stream",
     "text": [
      "pygame 2.0.1 (SDL 2.0.14, Python 3.8.5)\n",
      "Hello from the pygame community. https://www.pygame.org/contribute.html\n"
     ]
    }
   ],
   "source": [
    "import random \n",
    "import pygame \n",
    "import time\n",
    "import asyncio\n",
    "\n",
    "from reachy_sdk import ReachySDK\n",
    "from reachy_sdk.trajectory import goto\n",
    "from reachy_sdk.trajectory import goto_async\n",
    "from reachy_sdk.trajectory.interpolation import InterpolationMode"
   ]
  },
  {
   "cell_type": "code",
   "execution_count": 2,
   "metadata": {},
   "outputs": [],
   "source": [
    "reachy = ReachySDK('localhost')\n",
    "pygame.init()\n",
    "\n",
    "pygame.mixer.init()"
   ]
  },
  {
   "cell_type": "markdown",
   "metadata": {},
   "source": [
    "Commande pygame pour gérer le son : "
   ]
  },
  {
   "cell_type": "code",
   "execution_count": null,
   "metadata": {},
   "outputs": [],
   "source": [
    "pygame.mixer.music.load #permet de charger un fichier de fond sonore.\n",
    "pygame.mixer.music.play #permet de jouer/lire le fond sonore.\n",
    "pygame.mixer.music.rewind #permet de reprendre au début le fond sonore.\n",
    "pygame.mixer.music.stop #permet d’arrêter la lecture du fond sonore.\n",
    "pygame.mixer.music.pause #permet de faire une pause dans la lecture.\n",
    "pygame.mixer.music.set_volume #permet de régler le volume du fond sonore.\n",
    "pygame.mixer.music.get_volume #permet de connaître le volume courant du fond sonore."
   ]
  },
  {
   "cell_type": "code",
   "execution_count": 3,
   "metadata": {},
   "outputs": [],
   "source": [
    "recorded_joints = [\n",
    "    reachy.r_arm.r_shoulder_pitch,\n",
    "    reachy.r_arm.r_shoulder_roll,\n",
    "    reachy.r_arm.r_arm_yaw,\n",
    "    reachy.r_arm.r_elbow_pitch,\n",
    "    reachy.r_arm.r_forearm_yaw,\n",
    "    reachy.r_arm.r_wrist_pitch,\n",
    "    reachy.r_arm.r_wrist_roll,\n",
    "    reachy.l_arm.l_shoulder_pitch,\n",
    "    reachy.l_arm.l_shoulder_roll,\n",
    "    reachy.l_arm.l_arm_yaw,\n",
    "    reachy.l_arm.l_elbow_pitch,\n",
    "    reachy.l_arm.l_forearm_yaw,\n",
    "    reachy.l_arm.l_wrist_pitch,\n",
    "    reachy.l_arm.l_wrist_roll,\n",
    "    reachy.head.joints.neck_disk_top,\n",
    "    reachy.head.joints.neck_disk_middle,\n",
    "    reachy.head.joints.neck_disk_bottom,\n",
    "]\n",
    "\n",
    "sampling_frequency = 100  #en hertz\n",
    "record_duration = 15  #en seconde"
   ]
  },
  {
   "cell_type": "markdown",
   "metadata": {},
   "source": [
    "### La classe emotion : "
   ]
  },
  {
   "cell_type": "code",
   "execution_count": 5,
   "metadata": {},
   "outputs": [],
   "source": [
    "class Emotion : \n",
    "    def __init__(self, nom, traject, son):\n",
    "        self.__nom = nom \n",
    "        self.__traject = traject\n",
    "        self.__son = son\n",
    "            \n",
    "    def trajectoriesPlayer(self):\n",
    "\n",
    "        #on rend rigide toutes jointures utiliser pour effectuer la trajectoire\n",
    "        reachy.turn_on('reachy')\n",
    "\n",
    "        #on créer un dictionnaire associant chaque jointure à sa première position \n",
    "        first_point = dict(zip(recorded_joints, self.__traject[0]))\n",
    "\n",
    "        #le robot se positionne sur les premieres positions de chaque jointures \n",
    "        goto(first_point, duration=3.0)\n",
    "\n",
    "        for joints_positions in self.__traject:\n",
    "            for joint, pos in zip(recorded_joints, joints_positions):\n",
    "                joint.goal_position = pos\n",
    "\n",
    "            time.sleep(1 / sampling_frequency)\n",
    "\n",
    "        reachy.turn_off_smoothly('reachy')\n",
    "        \n",
    "    def playEmotion(self):\n",
    "        self.trajectoriesPlayer()\n",
    "        pygame.mixer.music.play(1,0.0)\n",
    "        \n",
    "    \n",
    "    def printName(self):\n",
    "        print(\"L'émotion est la\", self.__nom)"
   ]
  },
  {
   "cell_type": "markdown",
   "metadata": {},
   "source": [
    "## Création des instances de la classe Emotion (les différentes émotions) : "
   ]
  },
  {
   "cell_type": "markdown",
   "metadata": {},
   "source": [
    "Lancement de l'enregistrement, aprête toi a bouger la partie du reachy comme tu le souhaite "
   ]
  },
  {
   "cell_type": "code",
   "execution_count": 13,
   "metadata": {},
   "outputs": [
    {
     "name": "stdout",
     "output_type": "stream",
     "text": [
      "ATTENTION : lancement du recorde de la 1ème émotion\n",
      "Entrer l'émotion que vous souhaiter enregistrer :one\n",
      "ATTENTION : lancement du recorde de la 2ème émotion\n",
      "Entrer l'émotion que vous souhaiter enregistrer :two\n"
     ]
    }
   ],
   "source": [
    "reachy.turn_off('reachy')\n",
    "listEmotion = [] #liste d'emotions\n",
    "trajectories = [] #on créer une nouvelle liste trajectoire\n",
    "\n",
    "for e in range(5) : \n",
    "    print(f'ATTENTION : lancement du recorde de la {e+1}ème émotion')\n",
    "    emotion = input(\"Entrer l'émotion que vous souhaiter enregistrer :\")\n",
    "    trajectories = []\n",
    "    start = time.time() #seconde passées depuis epoch\n",
    "    while (time.time() - start) < record_duration:\n",
    "        #on optient les positions actuelles de toutes les jointures \n",
    "        current_point = [joint.present_position for joint in recorded_joints]\n",
    "        #on ajoute les positions à la liste trajectoire \n",
    "        trajectories.append(current_point)\n",
    "        time.sleep(1 / sampling_frequency)\n",
    "    emotion = Emotion(emotion, trajectories, son)\n",
    "    #print(trajectories)\n",
    "    del trajectories\n",
    "    listEmotion.append(emotion)\n",
    "    "
   ]
  },
  {
   "cell_type": "markdown",
   "metadata": {},
   "source": [
    "Joue une émotion pour tester tes mouvements :"
   ]
  },
  {
   "cell_type": "code",
   "execution_count": 19,
   "metadata": {},
   "outputs": [],
   "source": [
    "print(listEmotion)"
   ]
  },
  {
   "cell_type": "code",
   "execution_count": null,
   "metadata": {},
   "outputs": [],
   "source": [
    "listEmotion[1]"
   ]
  },
  {
   "cell_type": "markdown",
   "metadata": {},
   "source": [
    "Permet de générer une séquence d'émotions choisi au hazard : "
   ]
  },
  {
   "cell_type": "code",
   "execution_count": 25,
   "metadata": {},
   "outputs": [
    {
     "name": "stdout",
     "output_type": "stream",
     "text": [
      "Séquence d'émotion choisie au hasard : ['colere', 'peur', 'tristesse', 'peur', 'surprise']\n"
     ]
    }
   ],
   "source": [
    "emotion = ['peur', 'joie', 'tristesse', 'colere', 'surprise']\n",
    "sequence = []\n",
    "for i in range(5):\n",
    "    sequence.append(random.choice(emotion))\n",
    "\n",
    "print(\"Séquence d'émotion choisie au hasard :\", sequence)"
   ]
  },
  {
   "cell_type": "code",
   "execution_count": 27,
   "metadata": {},
   "outputs": [
    {
     "ename": "AttributeError",
     "evalue": "'str' object has no attribute 'playEmotion'",
     "output_type": "error",
     "traceback": [
      "\u001b[0;31m---------------------------------------------------------------------------\u001b[0m",
      "\u001b[0;31mAttributeError\u001b[0m                            Traceback (most recent call last)",
      "\u001b[0;32m<ipython-input-27-fbbb652a2060>\u001b[0m in \u001b[0;36m<module>\u001b[0;34m\u001b[0m\n\u001b[1;32m      1\u001b[0m \u001b[0;32mfor\u001b[0m \u001b[0me\u001b[0m \u001b[0;32min\u001b[0m \u001b[0mrange\u001b[0m\u001b[0;34m(\u001b[0m\u001b[0mlen\u001b[0m\u001b[0;34m(\u001b[0m\u001b[0msequence\u001b[0m\u001b[0;34m)\u001b[0m\u001b[0;34m)\u001b[0m\u001b[0;34m:\u001b[0m\u001b[0;34m\u001b[0m\u001b[0;34m\u001b[0m\u001b[0m\n\u001b[0;32m----> 2\u001b[0;31m     \u001b[0msequence\u001b[0m\u001b[0;34m[\u001b[0m\u001b[0me\u001b[0m\u001b[0;34m]\u001b[0m\u001b[0;34m.\u001b[0m\u001b[0mplayEmotion\u001b[0m\u001b[0;34m(\u001b[0m\u001b[0;34m)\u001b[0m\u001b[0;34m\u001b[0m\u001b[0;34m\u001b[0m\u001b[0m\n\u001b[0m\u001b[1;32m      3\u001b[0m     \u001b[0mprint\u001b[0m\u001b[0;34m(\u001b[0m\u001b[0;34mf'Emotion jouée actuellement: {sequence.printName()}'\u001b[0m\u001b[0;34m)\u001b[0m\u001b[0;34m\u001b[0m\u001b[0;34m\u001b[0m\u001b[0m\n\u001b[1;32m      4\u001b[0m \u001b[0;34m\u001b[0m\u001b[0m\n",
      "\u001b[0;31mAttributeError\u001b[0m: 'str' object has no attribute 'playEmotion'"
     ]
    }
   ],
   "source": [
    "for e in range(len(sequence)):\n",
    "    sequence[e].playEmotion()\n",
    "    print(f'Emotion jouée actuellement: {sequence.printName()}')\n",
    "    "
   ]
  },
  {
   "cell_type": "code",
   "execution_count": null,
   "metadata": {},
   "outputs": [],
   "source": [
    "reponse = input(\"Entrez dans l'ordre les émotions de la séquence vu auparavant : \")"
   ]
  },
  {
   "cell_type": "code",
   "execution_count": null,
   "metadata": {},
   "outputs": [],
   "source": [
    "if reponse == sequence :\n",
    "    'gagné!'"
   ]
  },
  {
   "cell_type": "code",
   "execution_count": null,
   "metadata": {},
   "outputs": [],
   "source": []
  }
 ],
 "metadata": {
  "kernelspec": {
   "display_name": "Python 3",
   "language": "python",
   "name": "python3"
  },
  "language_info": {
   "codemirror_mode": {
    "name": "ipython",
    "version": 3
   },
   "file_extension": ".py",
   "mimetype": "text/x-python",
   "name": "python",
   "nbconvert_exporter": "python",
   "pygments_lexer": "ipython3",
   "version": "3.8.5"
  }
 },
 "nbformat": 4,
 "nbformat_minor": 4
}
