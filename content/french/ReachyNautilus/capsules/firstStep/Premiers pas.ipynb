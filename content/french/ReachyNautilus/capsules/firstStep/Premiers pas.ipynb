{
 "cells": [
  {
   "cell_type": "markdown",
   "metadata": {},
   "source": [
    "### Prérecquis : \n",
    "- capsule *Configuration du robot*\n",
    "- capsule *Prise en main d'un notebook Jupyter*\n",
    "- capsule *Python : les bases*\n",
    "- capsule *Python Orienté Objet*\n",
    "\n",
    "### Acquis d'aprentissage visés : \n",
    "A l'issue de cette activité l'apprenant saura : \n",
    "- utiliser un notebook Jupyter pour contrôler le robot \n",
    "- contrôler par programme : la tête du robot, un bras du robot , les antennes du robot \n",
    "- mettre compliant ou non compliant le robot"
   ]
  },
  {
   "cell_type": "markdown",
   "metadata": {},
   "source": [
    "# Avant de commencer "
   ]
  },
  {
   "cell_type": "markdown",
   "metadata": {},
   "source": [
    "**Ce notebook doit être copier :** \n",
    "Cliquer sur *Fichier* --> *faire une copie*   \n",
    "Rendez-vous sur la copie du notebook que vous venez de faire dans le dossier Nautilus. "
   ]
  },
  {
   "cell_type": "markdown",
   "metadata": {},
   "source": [
    "**Renommer la copie** en cliquant sur le nom du fichier a droite du logo Jupyter. \n",
    "Forme du nom : *aa-mm-jjj.prenom.nom.ipynb*"
   ]
  },
  {
   "cell_type": "markdown",
   "metadata": {},
   "source": [
    "# Premier pas "
   ]
  },
  {
   "cell_type": "markdown",
   "metadata": {},
   "source": [
    "Ce notebook te permet de faire tes premiers pas en Python avec le robot Reachy. \n"
   ]
  },
  {
   "cell_type": "markdown",
   "metadata": {},
   "source": [
    "**Note:** Un seul notebook à la fois peut activer les moteurs du robot, assure-toi que personne d'autre n'est connecté sur le robot en même temps que toi dans la salle."
   ]
  },
  {
   "cell_type": "code",
   "execution_count": 1,
   "metadata": {},
   "outputs": [],
   "source": [
    "import time"
   ]
  },
  {
   "cell_type": "markdown",
   "metadata": {},
   "source": [
    "## Instancier l'objet Reachy"
   ]
  },
  {
   "cell_type": "code",
   "execution_count": 2,
   "metadata": {},
   "outputs": [],
   "source": [
    "from reachy_sdk import ReachySDK\n",
    "\n",
    "reachy = ReachySDK('localhost')\n",
    "\n",
    "\n",
    "from reachy_sdk.trajectory import goto\n",
    "from reachy_sdk.trajectory.interpolation import InterpolationMode\n",
    "#from reachy_sdk.trajectory.player import TrajectoryPlayer"
   ]
  },
  {
   "cell_type": "markdown",
   "metadata": {},
   "source": [
    "L'objet Reachy à 8 attributs "
   ]
  },
  {
   "cell_type": "markdown",
   "metadata": {},
   "source": [
    "Lister les moteurs du bras : "
   ]
  },
  {
   "cell_type": "code",
   "execution_count": null,
   "metadata": {},
   "outputs": [],
   "source": [
    "reachy.r_arm"
   ]
  },
  {
   "cell_type": "markdown",
   "metadata": {},
   "source": [
    "Lister les moteurs de la tête : "
   ]
  },
  {
   "cell_type": "markdown",
   "metadata": {},
   "source": [
    "On peut afficher directement la liste des moteurs :"
   ]
  },
  {
   "cell_type": "code",
   "execution_count": null,
   "metadata": {},
   "outputs": [],
   "source": [
    "reachy.head"
   ]
  },
  {
   "cell_type": "markdown",
   "metadata": {},
   "source": [
    "ou parcourir la liste et afficher séparément chacun des moteurs :"
   ]
  },
  {
   "cell_type": "code",
   "execution_count": null,
   "metadata": {},
   "outputs": [],
   "source": [
    "reachy.head"
   ]
  },
  {
   "cell_type": "markdown",
   "metadata": {},
   "source": [
    "Tu peux bouger le bras et la tete et voir si les positions changent."
   ]
  },
  {
   "cell_type": "markdown",
   "metadata": {},
   "source": [
    "## Compliant ? "
   ]
  },
  {
   "cell_type": "markdown",
   "metadata": {},
   "source": [
    "Tout le robot en mode rigide : "
   ]
  },
  {
   "cell_type": "code",
   "execution_count": null,
   "metadata": {},
   "outputs": [],
   "source": [
    "reachy.turn_on('head')"
   ]
  },
  {
   "cell_type": "markdown",
   "metadata": {},
   "source": [
    "Juste le bras rigide : "
   ]
  },
  {
   "cell_type": "code",
   "execution_count": 7,
   "metadata": {},
   "outputs": [],
   "source": [
    "reachy.turn_on('r_arm')"
   ]
  },
  {
   "cell_type": "markdown",
   "metadata": {},
   "source": [
    "Juste la tête rigide : "
   ]
  },
  {
   "cell_type": "code",
   "execution_count": null,
   "metadata": {},
   "outputs": [],
   "source": [
    "reachy.turn_on('head')"
   ]
  },
  {
   "cell_type": "markdown",
   "metadata": {},
   "source": [
    "Tout le robot en mode libre : "
   ]
  },
  {
   "cell_type": "code",
   "execution_count": 5,
   "metadata": {},
   "outputs": [],
   "source": [
    "reachy.turn_off('reachy')"
   ]
  },
  {
   "cell_type": "markdown",
   "metadata": {},
   "source": [
    "## Bouger le bras"
   ]
  },
  {
   "cell_type": "markdown",
   "metadata": {},
   "source": [
    "#### Pour bouger le bras de Nemo on va changer la position de certain moteur : "
   ]
  },
  {
   "cell_type": "code",
   "execution_count": 3,
   "metadata": {},
   "outputs": [],
   "source": [
    "reachy.turn_on('r_arm')"
   ]
  },
  {
   "cell_type": "markdown",
   "metadata": {},
   "source": [
    "Ici on veut que le coude soit à 90° et les autres moteurs à leurs positions initiales: "
   ]
  },
  {
   "cell_type": "code",
   "execution_count": 4,
   "metadata": {},
   "outputs": [],
   "source": [
    "goto(\n",
    "    goal_positions=\n",
    "            {reachy.r_arm.r_shoulder_pitch: 0,\n",
    "            reachy.r_arm.r_shoulder_roll: 0,\n",
    "            reachy.r_arm.r_arm_yaw: 0,\n",
    "            reachy.r_arm.r_elbow_pitch: -90,\n",
    "            reachy.r_arm.r_forearm_yaw: 0,\n",
    "            reachy.r_arm.r_wrist_pitch: 0,\n",
    "            reachy.r_arm.r_wrist_roll: 0},\n",
    "        duration=1.0,\n",
    "        interpolation_mode=InterpolationMode.MINIMUM_JERK\n",
    "    )"
   ]
  },
  {
   "cell_type": "markdown",
   "metadata": {},
   "source": [
    "Si on avait voulu mettre que le coude à 90° : "
   ]
  },
  {
   "cell_type": "code",
   "execution_count": null,
   "metadata": {},
   "outputs": [],
   "source": [
    "goto(goal_positions={reachy.r_arm.r_elbow_pitch: -90}, duration=1.0, interpolation_mode=InterpolationMode.MINIMUM_JERK)"
   ]
  },
  {
   "cell_type": "markdown",
   "metadata": {},
   "source": [
    "**Attention :** Ici si tu choisit de bouger qu'un seul moteur, assure toi que les autres moteurs sont dans une position qui ne va pas gener pour le déplacement. "
   ]
  },
  {
   "cell_type": "markdown",
   "metadata": {},
   "source": [
    "On rend le bras libre de façon douce en utilisant la méthode turn_off_smoothly() :"
   ]
  },
  {
   "cell_type": "code",
   "execution_count": 9,
   "metadata": {},
   "outputs": [],
   "source": [
    "reachy.turn_off_smoothly('reachy')"
   ]
  },
  {
   "cell_type": "markdown",
   "metadata": {},
   "source": [
    "## Bouger la tête "
   ]
  },
  {
   "cell_type": "markdown",
   "metadata": {},
   "source": [
    "Aller à la position de base "
   ]
  },
  {
   "cell_type": "code",
   "execution_count": null,
   "metadata": {},
   "outputs": [],
   "source": [
    "reachy.turn_on('head')\n",
    "reachy.head.look_at(x=0.5, y=0, z=0, duration=1.0)"
   ]
  },
  {
   "cell_type": "markdown",
   "metadata": {},
   "source": [
    "**ATTENTION :** ne pas mettre la durée de déplacement trop courte "
   ]
  },
  {
   "cell_type": "markdown",
   "metadata": {},
   "source": [
    "## Bouger les antennes "
   ]
  },
  {
   "cell_type": "markdown",
   "metadata": {},
   "source": [
    "Lister les moteurs des antennes : "
   ]
  },
  {
   "cell_type": "code",
   "execution_count": null,
   "metadata": {},
   "outputs": [],
   "source": [
    "reachy.head"
   ]
  },
  {
   "cell_type": "markdown",
   "metadata": {},
   "source": [
    "Les rendrent non compliant"
   ]
  },
  {
   "cell_type": "code",
   "execution_count": null,
   "metadata": {},
   "outputs": [],
   "source": [
    "reachy.turn_on('head')"
   ]
  },
  {
   "cell_type": "markdown",
   "metadata": {},
   "source": [
    "Mettre les antennes à la position 0° : "
   ]
  },
  {
   "cell_type": "code",
   "execution_count": null,
   "metadata": {},
   "outputs": [],
   "source": [
    "reachy.head.l_antenna.speed_limit = 50.0\n",
    "reachy.head.r_antenna.speed_limit = 50.0"
   ]
  },
  {
   "cell_type": "code",
   "execution_count": null,
   "metadata": {},
   "outputs": [],
   "source": [
    "reachy.head.l_antenna.goal_position = 0.0\n",
    "reachy.head.r_antenna.goal_position = 0.0"
   ]
  },
  {
   "cell_type": "markdown",
   "metadata": {},
   "source": [
    "Mettre les antennes à la position 45° : "
   ]
  },
  {
   "cell_type": "code",
   "execution_count": null,
   "metadata": {},
   "outputs": [],
   "source": [
    "reachy.head.l_antenna.goal_position = 45.0\n",
    "reachy.head.r_antenna.goal_position = 45.0"
   ]
  },
  {
   "cell_type": "code",
   "execution_count": null,
   "metadata": {},
   "outputs": [],
   "source": [
    "reachy.turn_off('reachy')"
   ]
  }
 ],
 "metadata": {
  "kernelspec": {
   "display_name": "Python 3",
   "language": "python",
   "name": "python3"
  },
  "language_info": {
   "codemirror_mode": {
    "name": "ipython",
    "version": 3
   },
   "file_extension": ".py",
   "mimetype": "text/x-python",
   "name": "python",
   "nbconvert_exporter": "python",
   "pygments_lexer": "ipython3",
   "version": "3.8.5"
  }
 },
 "nbformat": 4,
 "nbformat_minor": 4
}
